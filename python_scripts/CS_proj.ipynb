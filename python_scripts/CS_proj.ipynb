{
 "cells": [
  {
   "cell_type": "code",
   "execution_count": 157,
   "metadata": {},
   "outputs": [],
   "source": [
    "import pandas as pd\n",
    "import numpy as np\n",
    "import matplotlib.pyplot as plt\n",
    "import matplotlib.cm as cm\n",
    "import math\n",
    "import time\n",
    "import geopandas\n",
    "import plotly.graph_objects as go\n",
    "import plotly.figure_factory as ff\n",
    "import time\n",
    "from datetime import datetime, date, time, timedelta\n",
    "from matplotlib import style\n",
    "style.use('ggplot')\n",
    "import seaborn as sns\n",
    "import warnings\n",
    "from statistics import mean\n",
    "warnings.filterwarnings('ignore')"
   ]
  },
  {
   "cell_type": "code",
   "execution_count": 98,
   "metadata": {},
   "outputs": [],
   "source": [
    "\n",
    "def generate_words(data, col):\n",
    "    words = []\n",
    "    # data(str): csv on show info\n",
    "        # eg: Bachelor_S22_2018.csv\n",
    "\n",
    "    df = pd.read_csv(r\"/Users/lindseytam/Desktop/team-shows/show_info/\"+data) \n",
    "\n",
    "    for i in range(len(df[col])):\n",
    "        \n",
    "        if col == \"name\":\n",
    "            name = df[col][i].split()\n",
    "            print(name)\n",
    "            words.append(name[0])\n",
    "        if col == \"twitter_handle\":\n",
    "            words.append(df[col][i])\n",
    "    \n",
    "    return words\n",
    "\n",
    "def word_finder(x):\n",
    "  df_words = set(x.split(' '))\n",
    "  extract_words =  words.intersection(df_words)\n",
    "  return ', '.join(extract_words)"
   ]
  },
  {
   "cell_type": "code",
   "execution_count": 120,
   "metadata": {},
   "outputs": [
    {
     "data": {
      "text/plain": [
       "1914"
      ]
     },
     "execution_count": 120,
     "metadata": {},
     "output_type": "execute_result"
    }
   ],
   "source": [
    "words = generate_words(\"Bachelor_2018.csv\", \"twitter_handle\")\n",
    "df = pd.read_csv(r\"/Users/lindseytam/Desktop/team-shows/cleaned_data/Bachelor_2018.csv\") \n",
    "len(df)"
   ]
  },
  {
   "cell_type": "code",
   "execution_count": 175,
   "metadata": {},
   "outputs": [
    {
     "data": {
      "text/plain": [
       "0.1833885201873871"
      ]
     },
     "execution_count": 175,
     "metadata": {},
     "output_type": "execute_result"
    }
   ],
   "source": [
    "words={\"thebkoof\"} #change to contestant's twitter to get dataset for contestant\n",
    "df = pd.read_csv(r\"/Users/lindseytam/Desktop/team-shows/cleaned_data/Bachelor_2018.csv\") \n",
    "df = df.drop(columns=['Unnamed: 0'])\n",
    "data = df[df['text'].str.contains('|'.join(words))].reset_index() #1886 tweets reference contestants directly\n",
    "total = len(data)\n",
    "data[\"polarity\"].mean() #BriAmaranthus, 0.162311320754717\n",
    "#thebkoof, 0.1833885201873871"
   ]
  },
  {
   "cell_type": "code",
   "execution_count": 163,
   "metadata": {},
   "outputs": [],
   "source": [
    "def clean_tweets(data):\n",
    "    data = pd.read_csv(r\"/Users/lindseytam/Desktop/team-shows/cleaned_data/\"+data+\".csv\") \n",
    "    \n",
    "    data[\"date\"] = pd.to_datetime(df[\"date\"]).dt.date\n",
    "    data = data.dropna()\n",
    "    return data\n",
    "\n",
    "def get_weeks(start):\n",
    "    return\n",
    "\n",
    "#clean_tweets(\"Bachelor_2018\")"
   ]
  },
  {
   "cell_type": "code",
   "execution_count": 180,
   "metadata": {},
   "outputs": [
    {
     "data": {
      "text/plain": [
       "<function Timestamp.date>"
      ]
     },
     "execution_count": 180,
     "metadata": {},
     "output_type": "execute_result"
    }
   ],
   "source": [
    "start = 20180101 #show airs\n",
    "end = 20180313\n",
    "\n",
    "\n",
    "df = pd.read_csv(r\"/Users/lindseytam/Desktop/team-shows/cleaned_data/Bachelor_2018.csv\") \n",
    "df = df.drop(columns=['Unnamed: 0'])\n",
    "#y = time.strptime(df[\"date\"][0], \"%a %b %d %H:%M:%S +0000 %Y\")\n",
    "#z = time.strptime(df[\"date\"][0], \"%a %b %d %H:%M:%S +0000 %Y\")\n",
    "\n",
    "df = clean_tweets(\"Bachelor_2018\")\n",
    "\n",
    "\n",
    "c = (pd.to_datetime(str(start), format='%Y%m%d') + timedelta(days=7))\n",
    "c"
   ]
  },
  {
   "cell_type": "code",
   "execution_count": null,
   "metadata": {},
   "outputs": [],
   "source": []
  },
  {
   "cell_type": "code",
   "execution_count": null,
   "metadata": {},
   "outputs": [],
   "source": []
  }
 ],
 "metadata": {
  "kernelspec": {
   "display_name": "Python 3",
   "language": "python",
   "name": "python3"
  },
  "language_info": {
   "codemirror_mode": {
    "name": "ipython",
    "version": 3
   },
   "file_extension": ".py",
   "mimetype": "text/x-python",
   "name": "python",
   "nbconvert_exporter": "python",
   "pygments_lexer": "ipython3",
   "version": "3.7.1"
  }
 },
 "nbformat": 4,
 "nbformat_minor": 2
}
